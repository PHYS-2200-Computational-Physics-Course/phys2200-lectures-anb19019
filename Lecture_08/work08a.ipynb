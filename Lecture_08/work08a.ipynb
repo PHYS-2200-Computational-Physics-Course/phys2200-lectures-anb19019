{
 "cells": [
  {
   "cell_type": "code",
   "execution_count": 1,
   "id": "b013f27a-2f3e-4298-b30e-f984355a0d54",
   "metadata": {},
   "outputs": [
    {
     "data": {
      "text/plain": [
       "mytrapezoids"
      ]
     },
     "execution_count": 1,
     "metadata": {},
     "output_type": "execute_result"
    }
   ],
   "source": [
    "\"\"\"\n",
    "    ans = mytrapezoids(fun, a, b, n)\n",
    "\n",
    "Numerically evaluate the integral int_a^b fun(x) dx using the\n",
    "trapezoidal rule: I = h/2*(f_1 + 2f_2 + ... + 2f_{n-1} + f_n),\n",
    "where h = (b - a)/(n - 1), x_i = a + (i - 1)*h, f_i = fun(x_i).\n",
    "\"\"\"\n",
    "function mytrapezoids(fun, a, b, n)\n",
    "    h = (b - a)/(n - 1)\n",
    "    s1 = fun(a) + fun(b)\n",
    "    s2 = 0.0\n",
    "    for i = 2:(n-1)\n",
    "        s2 += fun(a + (i-1)*h)\n",
    "    end\n",
    "    return (s1 + 2*s2)*h/2\n",
    "end\n"
   ]
  },
  {
   "cell_type": "code",
   "execution_count": 7,
   "id": "03990f88-2d70-4a67-8dc5-99a4a2af3979",
   "metadata": {},
   "outputs": [
    {
     "name": "stdout",
     "output_type": "stream",
     "text": [
      "search: \u001b[0m\u001b[1mm\u001b[22m\u001b[0m\u001b[1my\u001b[22m\u001b[0m\u001b[1mt\u001b[22m\u001b[0m\u001b[1mr\u001b[22m\u001b[0m\u001b[1ma\u001b[22m\u001b[0m\u001b[1mp\u001b[22m\u001b[0m\u001b[1me\u001b[22m\u001b[0m\u001b[1mz\u001b[22m\u001b[0m\u001b[1mo\u001b[22m\u001b[0m\u001b[1mi\u001b[22m\u001b[0m\u001b[1md\u001b[22m\u001b[0m\u001b[1ms\u001b[22m\n",
      "\n"
     ]
    },
    {
     "data": {
      "text/latex": [
       "\\begin{verbatim}\n",
       "ans = mytrapezoids(fun, a, b, n)\n",
       "\\end{verbatim}\n",
       "Numerically evaluate the integral int\\emph{a\\^{}b fun(x) dx using the trapezoidal rule: I = h/2*(f}1 + 2f\\emph{2 + ... + 2f}\\{n-1\\} + f\\emph{n), where h = (b - a)/(n - 1), x}i = a + (i - 1)*h, f\\emph{i = fun(x}i).\n",
       "\n"
      ],
      "text/markdown": [
       "```\n",
       "ans = mytrapezoids(fun, a, b, n)\n",
       "```\n",
       "\n",
       "Numerically evaluate the integral int*a^b fun(x) dx using the trapezoidal rule: I = h/2*(f*1 + 2f*2 + ... + 2f*{n-1} + f*n), where h = (b - a)/(n - 1), x*i = a + (i - 1)*h, f*i = fun(x*i).\n"
      ],
      "text/plain": [
       "\u001b[36m  ans = mytrapezoids(fun, a, b, n)\u001b[39m\n",
       "\n",
       "  Numerically evaluate the integral int\u001b[4ma^b fun(x) dx using the trapezoidal\u001b[24m\n",
       "  \u001b[4mrule: I = h/2*(f\u001b[24m1 + 2f\u001b[4m2 + ... + 2f\u001b[24m{n-1} + f\u001b[4mn), where h = (b - a)/(n - 1), x\u001b[24mi\n",
       "  = a + (i - 1)*h, f\u001b[4mi = fun(x\u001b[24mi)."
      ]
     },
     "execution_count": 7,
     "metadata": {},
     "output_type": "execute_result"
    }
   ],
   "source": [
    "?mytrapezoids"
   ]
  },
  {
   "cell_type": "code",
   "execution_count": 4,
   "id": "15ec2d21-7de1-4428-b229-885d803b1fb9",
   "metadata": {},
   "outputs": [
    {
     "data": {
      "text/plain": [
       "0.6931471805599453"
      ]
     },
     "execution_count": 4,
     "metadata": {},
     "output_type": "execute_result"
    }
   ],
   "source": [
    "fun1(x) = 1/x\n",
    "a1 = 1.0\n",
    "b1 = 2.0\n",
    "np1 = 20\n",
    "exact1 = log(2)"
   ]
  },
  {
   "cell_type": "code",
   "execution_count": 5,
   "id": "a3deb188-819b-4716-898c-a09da3e0732d",
   "metadata": {},
   "outputs": [
    {
     "data": {
      "text/plain": [
       "0.6933202508885106"
      ]
     },
     "execution_count": 5,
     "metadata": {},
     "output_type": "execute_result"
    }
   ],
   "source": [
    "res1 = mytrapezoids(fun1, a1, b1, np1)"
   ]
  },
  {
   "cell_type": "code",
   "execution_count": 7,
   "id": "a8cada15-ba17-4697-b13e-31d26b0a39bf",
   "metadata": {},
   "outputs": [
    {
     "data": {
      "text/plain": [
       "0.0002"
      ]
     },
     "execution_count": 7,
     "metadata": {},
     "output_type": "execute_result"
    }
   ],
   "source": [
    "round(abs(res1 - exact1), sigdigits=1)"
   ]
  },
  {
   "cell_type": "code",
   "execution_count": 8,
   "id": "52a9f64a-3ae4-49a8-87a3-b97bfde25f5b",
   "metadata": {},
   "outputs": [
    {
     "data": {
      "text/plain": [
       "1.718281828459045"
      ]
     },
     "execution_count": 8,
     "metadata": {},
     "output_type": "execute_result"
    }
   ],
   "source": [
    "fun2(x) = exp(x)\n",
    "a2 = 0.0\n",
    "b2 = 1.0\n",
    "np2 = 100\n",
    "exact2 = exp(1) - 1.0"
   ]
  },
  {
   "cell_type": "code",
   "execution_count": 9,
   "id": "ea221dd5-2616-4584-a79e-ea37fcc37436",
   "metadata": {},
   "outputs": [
    {
     "data": {
      "text/plain": [
       "1.0e-5"
      ]
     },
     "execution_count": 9,
     "metadata": {},
     "output_type": "execute_result"
    }
   ],
   "source": [
    "\n",
    "round(abs(mytrapezoids(fun2, a2, b2, np2) - exact2), sigdigits=1)"
   ]
  },
  {
   "cell_type": "code",
   "execution_count": 10,
   "id": "a555fbd0-0297-4fa9-8f9e-d2a72e21a49e",
   "metadata": {},
   "outputs": [
    {
     "data": {
      "text/plain": [
       "2.0"
      ]
     },
     "execution_count": 10,
     "metadata": {},
     "output_type": "execute_result"
    }
   ],
   "source": [
    "fun3(x) = sin(x)\n",
    "a3 = 0.0\n",
    "b3 = pi\n",
    "exact3 = 2.0"
   ]
  },
  {
   "cell_type": "code",
   "execution_count": 11,
   "id": "49a40eca-1eb7-4903-b270-73aa34d1e5f9",
   "metadata": {},
   "outputs": [],
   "source": [
    "ndp = 10           # number of tests\n",
    "errt = zeros(ndp)  # absolute errors\n",
    "hh = zeros(ndp);   # integration steps"
   ]
  },
  {
   "cell_type": "code",
   "execution_count": 12,
   "id": "a40402da-695a-41bb-bc6c-bb8897371182",
   "metadata": {},
   "outputs": [],
   "source": [
    "for k = 1:ndp \n",
    "    np = 2^k + 1\n",
    "    hh[k] = (b3 - a3)/(np - 1)\n",
    "    errt[k] = abs(mytrapezoids(fun3, a3, b3, np) - exact3)\n",
    "end"
   ]
  },
  {
   "cell_type": "code",
   "execution_count": 15,
   "id": "0e4880b9-a842-4b7d-8052-ce29e8d7edd0",
   "metadata": {},
   "outputs": [
    {
     "data": {
      "text/plain": [
       "10-element Vector{Float64}:\n",
       " 0.42920367320510344\n",
       " 0.1038811020629602\n",
       " 0.025768398054449193\n",
       " 0.006429656227660452\n",
       " 0.0016066390298559163\n",
       " 0.00040161135996252817\n",
       " 0.00010039981579623714\n",
       " 2.5099764946912018e-5\n",
       " 6.274929423177866e-6\n",
       " 1.5687316166079768e-6"
      ]
     },
     "execution_count": 15,
     "metadata": {},
     "output_type": "execute_result"
    }
   ],
   "source": [
    "errt"
   ]
  },
  {
   "cell_type": "code",
   "execution_count": 14,
   "id": "d1ee45de-ec5f-4b2d-89ad-10022816c1e0",
   "metadata": {},
   "outputs": [],
   "source": [
    "using PyPlot"
   ]
  },
  {
   "cell_type": "code",
   "execution_count": 19,
   "id": "dfdcdd28-2763-483a-b876-27250f6d8e9a",
   "metadata": {},
   "outputs": [
    {
     "data": {
      "image/png": "[encoded data removed]",
      "text/plain": [
       "Figure(PyObject <Figure size 640x480 with 1 Axes>)"
      ]
     },
     "metadata": {},
     "output_type": "display_data"
    }
   ],
   "source": [
    "loglog(hh, errt, marker=\".\")\n",
    "grid(true)"
   ]
  },
  {
   "cell_type": "code",
   "execution_count": null,
   "id": "148a59f6-77b0-46d9-974c-b725825a55eb",
   "metadata": {},
   "outputs": [],
   "source": []
  }
 ],
 "metadata": {
  "kernelspec": {
   "display_name": "Julia 1.11.6",
   "language": "julia",
   "name": "julia-1.11"
  },
  "language_info": {
   "file_extension": ".jl",
   "mimetype": "application/julia",
   "name": "julia",
   "version": "1.11.6"
  }
 },
 "nbformat": 4,
 "nbformat_minor": 5
}
