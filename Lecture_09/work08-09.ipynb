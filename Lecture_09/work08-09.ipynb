{
 "cells": [
  {
   "cell_type": "code",
   "execution_count": 5,
   "id": "aa423240-3daf-4189-8d12-7c251b4beb19",
   "metadata": {},
   "outputs": [
    {
     "data": {
      "text/plain": [
       "mytrapezoids"
      ]
     },
     "execution_count": 5,
     "metadata": {},
     "output_type": "execute_result"
    }
   ],
   "source": [
    "\n",
    "\"\"\"\n",
    "    ans = mytrapezoids(fun, a, b, n)\n",
    "\n",
    "Numerically evaluate the integral int_a^b fun(x) dx using the\n",
    "trapezoidal rule: I = h/2*(f_1 + 2f_2 + ... + 2f_{n-1} + f_n),\n",
    "where h = (b - a)/(n - 1), x_i = a + (i - 1)*h, f_i = fun(x_i).\n",
    "\"\"\"\n",
    "function mytrapezoids(fun, a, b, n)\n",
    "    h = (b - a)/(n - 1)\n",
    "    s1 = fun(a) + fun(b)\n",
    "    s2 = 0.0\n",
    "    for i = 2:(n-1)\n",
    "        s2 += fun(a + h*(i-1))\n",
    "    end\n",
    "    return h/2*(s1 + 2*s2)\n",
    "end"
   ]
  },
  {
   "cell_type": "code",
   "execution_count": 6,
   "id": "209f238c-e1fa-4d12-86f6-ac9a49630a53",
   "metadata": {},
   "outputs": [
    {
     "name": "stdout",
     "output_type": "stream",
     "text": [
      "search: \u001b[0m\u001b[1mm\u001b[22m\u001b[0m\u001b[1my\u001b[22m\u001b[0m\u001b[1mt\u001b[22m\u001b[0m\u001b[1mr\u001b[22m\u001b[0m\u001b[1ma\u001b[22m\u001b[0m\u001b[1mp\u001b[22m\u001b[0m\u001b[1me\u001b[22m\u001b[0m\u001b[1mz\u001b[22m\u001b[0m\u001b[1mo\u001b[22m\u001b[0m\u001b[1mi\u001b[22m\u001b[0m\u001b[1md\u001b[22m\u001b[0m\u001b[1ms\u001b[22m\n",
      "\n"
     ]
    },
    {
     "data": {
      "text/latex": [
       "\\begin{verbatim}\n",
       "ans = mytrapezoids(fun, a, b, n)\n",
       "\\end{verbatim}\n",
       "Numerically evaluate the integral int\\emph{a\\^{}b fun(x) dx using the trapezoidal rule: I = h/2*(f}1 + 2f\\emph{2 + ... + 2f}\\{n-1\\} + f\\emph{n), where h = (b - a)/(n - 1), x}i = a + (i - 1)*h, f\\emph{i = fun(x}i).\n",
       "\n"
      ],
      "text/markdown": [
       "```\n",
       "ans = mytrapezoids(fun, a, b, n)\n",
       "```\n",
       "\n",
       "Numerically evaluate the integral int*a^b fun(x) dx using the trapezoidal rule: I = h/2*(f*1 + 2f*2 + ... + 2f*{n-1} + f*n), where h = (b - a)/(n - 1), x*i = a + (i - 1)*h, f*i = fun(x*i).\n"
      ],
      "text/plain": [
       "\u001b[36m  ans = mytrapezoids(fun, a, b, n)\u001b[39m\n",
       "\n",
       "  Numerically evaluate the integral int\u001b[4ma^b fun(x) dx using the trapezoidal\u001b[24m\n",
       "  \u001b[4mrule: I = h/2*(f\u001b[24m1 + 2f\u001b[4m2 + ... + 2f\u001b[24m{n-1} + f\u001b[4mn), where h = (b - a)/(n - 1), x\u001b[24mi\n",
       "  = a + (i - 1)*h, f\u001b[4mi = fun(x\u001b[24mi)."
      ]
     },
     "execution_count": 6,
     "metadata": {},
     "output_type": "execute_result"
    }
   ],
   "source": [
    "\n",
    "?mytrapezoids"
   ]
  },
  {
   "cell_type": "code",
   "execution_count": 7,
   "id": "a9c89f13-53ef-4c21-951d-75006d16f43a",
   "metadata": {},
   "outputs": [
    {
     "data": {
      "text/plain": [
       "20"
      ]
     },
     "execution_count": 7,
     "metadata": {},
     "output_type": "execute_result"
    }
   ],
   "source": [
    "\n",
    "fun1(x) = 1/x\n",
    "a1 = 1.0\n",
    "b1 = 2.0\n",
    "exact1 = log(2)\n",
    "np1 = 20"
   ]
  },
  {
   "cell_type": "code",
   "execution_count": 8,
   "id": "4ccdd2af-ce84-4c3e-8bb9-38a57b13aaa6",
   "metadata": {},
   "outputs": [
    {
     "data": {
      "text/plain": [
       "0.6933202508885106"
      ]
     },
     "execution_count": 8,
     "metadata": {},
     "output_type": "execute_result"
    }
   ],
   "source": [
    "\n",
    "res1 = mytrapezoids(fun1, a1, b1, np1)"
   ]
  },
  {
   "cell_type": "code",
   "execution_count": 9,
   "id": "26aea22b-0436-4c18-9302-2564897f4d6a",
   "metadata": {},
   "outputs": [
    {
     "data": {
      "text/plain": [
       "0.0002"
      ]
     },
     "execution_count": 9,
     "metadata": {},
     "output_type": "execute_result"
    }
   ],
   "source": [
    "\n",
    "round(abs(res1 - exact1), sigdigits=1)"
   ]
  },
  {
   "cell_type": "code",
   "execution_count": 10,
   "id": "fb8c7bd7-60be-4965-aa1e-d65c7b3d6273",
   "metadata": {},
   "outputs": [
    {
     "data": {
      "text/plain": [
       "100"
      ]
     },
     "execution_count": 10,
     "metadata": {},
     "output_type": "execute_result"
    }
   ],
   "source": [
    "\n",
    "fun2(x) = exp(x)\n",
    "a2 = 0.0\n",
    "b2 = 1.0\n",
    "exact2 = exp(1) - 1.0\n",
    "np2 = 100"
   ]
  },
  {
   "cell_type": "code",
   "execution_count": 11,
   "id": "a248f450-480b-46c3-b787-4378e81b2730",
   "metadata": {},
   "outputs": [
    {
     "data": {
      "text/plain": [
       "1.718296438183449"
      ]
     },
     "execution_count": 11,
     "metadata": {},
     "output_type": "execute_result"
    }
   ],
   "source": [
    "\n",
    "res2 = mytrapezoids(fun2, a2, b2, np2)"
   ]
  },
  {
   "cell_type": "code",
   "execution_count": 12,
   "id": "8bf0821d-22e5-4ec2-af6d-04434ef4cbfe",
   "metadata": {},
   "outputs": [
    {
     "data": {
      "text/plain": [
       "1.0e-5"
      ]
     },
     "execution_count": 12,
     "metadata": {},
     "output_type": "execute_result"
    }
   ],
   "source": [
    "\n",
    "round(abs(res2 - exact2), sigdigits=1)"
   ]
  },
  {
   "cell_type": "code",
   "execution_count": 13,
   "id": "5d8e6517-3338-42c5-992f-73142ce6321a",
   "metadata": {},
   "outputs": [
    {
     "data": {
      "text/plain": [
       "2.0"
      ]
     },
     "execution_count": 13,
     "metadata": {},
     "output_type": "execute_result"
    }
   ],
   "source": [
    "\n",
    "fun3(x) = sin(x)\n",
    "a3 = 0.0\n",
    "b3 = pi\n",
    "exact3 = 2.0"
   ]
  },
  {
   "cell_type": "code",
   "execution_count": 14,
   "id": "02a3d11f-8f8c-413a-814c-6952172271e9",
   "metadata": {},
   "outputs": [],
   "source": [
    "\n",
    "ndp = 10\n",
    "hh = zeros(ndp)       # create an array of ndp elements\n",
    "abserrs = zeros(ndp);"
   ]
  },
  {
   "cell_type": "code",
   "execution_count": 15,
   "id": "90d532ba-1353-4ee8-abec-dc1f53c83249",
   "metadata": {},
   "outputs": [],
   "source": [
    "\n",
    "for i = 1:ndp\n",
    "    np = 2^i + 1\n",
    "    hh[i] = (b3 - a3)/(np - 1)\n",
    "    abserrs[i] = abs(mytrapezoids(fun3, a3, b3, np) - exact3)\n",
    "end"
   ]
  },
  {
   "cell_type": "code",
   "execution_count": 16,
   "id": "19786643-2489-4e70-9baa-eb7b7e5181df",
   "metadata": {},
   "outputs": [
    {
     "data": {
      "text/plain": [
       "10-element Vector{Float64}:\n",
       " 0.42920367320510344\n",
       " 0.1038811020629602\n",
       " 0.025768398054449193\n",
       " 0.006429656227660452\n",
       " 0.0016066390298559163\n",
       " 0.00040161135996252817\n",
       " 0.00010039981579623714\n",
       " 2.5099764946912018e-5\n",
       " 6.274929423177866e-6\n",
       " 1.5687316166079768e-6"
      ]
     },
     "execution_count": 16,
     "metadata": {},
     "output_type": "execute_result"
    }
   ],
   "source": [
    "abserrs"
   ]
  },
  {
   "cell_type": "code",
   "execution_count": 17,
   "id": "4a1727ad-bd43-4ab8-aa37-558ac982c2b1",
   "metadata": {},
   "outputs": [],
   "source": [
    "\n",
    "using PyPlot"
   ]
  },
  {
   "cell_type": "code",
   "execution_count": 18,
   "id": "a7404e10-9273-4bca-bd12-2a7291202920",
   "metadata": {},
   "outputs": [
    {
     "data": {
      "image/png": "[encoded data removed]",
      "text/plain": [
       "Figure(PyObject <Figure size 640x480 with 1 Axes>)"
      ]
     },
     "metadata": {},
     "output_type": "display_data"
    }
   ],
   "source": [
    "\n",
    "loglog(hh, abserrs, marker=\".\", label=\"Numerical experiment\")\n",
    "loglog(hh, hh.^2, linestyle=\"dashed\", label=L\"h^2\")\n",
    "grid(true)\n",
    "xlabel(\"h\")\n",
    "ylabel(\"absolute error\")\n",
    "title(\"Error of trapezoidal formula\")\n",
    "legend();"
   ]
  },
  {
   "cell_type": "code",
   "execution_count": 19,
   "id": "08f4e6d0-0cfe-48a2-9b5d-d35511b88333",
   "metadata": {},
   "outputs": [
    {
     "data": {
      "text/plain": [
       "mytrap2 (generic function with 1 method)"
      ]
     },
     "execution_count": 19,
     "metadata": {},
     "output_type": "execute_result"
    }
   ],
   "source": [
    "\n",
    "function mytrap2(fv, h)\n",
    "    return h/2*(fv[1] + fv[end] + 2*sum(fv[2:(end-1)]))\n",
    "end"
   ]
  },
  {
   "cell_type": "code",
   "execution_count": 20,
   "id": "8e93793f-db2b-4e23-bbdb-28f4321c1a28",
   "metadata": {},
   "outputs": [
    {
     "data": {
      "text/plain": [
       "0.0002"
      ]
     },
     "execution_count": 20,
     "metadata": {},
     "output_type": "execute_result"
    }
   ],
   "source": [
    "\n",
    "x1 = range(a1, b1, np1)\n",
    "fv1 = fun1.(x1)\n",
    "h1 = x1[2] - x1[1]\n",
    "round(abs(mytrap2(fv1, h1) - exact1), sigdigits=1)"
   ]
  },
  {
   "cell_type": "code",
   "execution_count": 21,
   "id": "8fd3cfed-8587-478a-aa99-48df569de02a",
   "metadata": {},
   "outputs": [
    {
     "data": {
      "text/plain": [
       "0.0002"
      ]
     },
     "execution_count": 21,
     "metadata": {},
     "output_type": "execute_result"
    }
   ],
   "source": [
    "\n",
    "x2 = range(a1, b1, np1)\n",
    "fv1 = fun1.(x1)\n",
    "h1 = x1[2] - x1[1]\n",
    "round(abs(mytrap2(fv1, h1) - exact1), sigdigits=1)"
   ]
  },
  {
   "cell_type": "code",
   "execution_count": 22,
   "id": "81bf26ef-f5ef-415b-873d-037f637bbc55",
   "metadata": {},
   "outputs": [
    {
     "data": {
      "text/plain": [
       "simpsons2 (generic function with 1 method)"
      ]
     },
     "execution_count": 22,
     "metadata": {},
     "output_type": "execute_result"
    }
   ],
   "source": [
    "function simpsons2(fun, a, b, n)\n",
    "    x = range(a, b, n)\n",
    "    fv = fun.(x)\n",
    "    h = x[2] - x[1]\n",
    "    th = mytrap2(fv, h)\n",
    "    t2h = mytrap2(fv[1:2:end],2*h)\n",
    "    simp = 1/3 * (4*th - t2h)\n",
    "    return simp\n",
    "end"
   ]
  },
  {
   "cell_type": "code",
   "execution_count": 24,
   "id": "ccf285c2-a1bb-42cf-96d7-c25ae52eabfb",
   "metadata": {},
   "outputs": [
    {
     "data": {
      "text/plain": [
       "3.0e-7"
      ]
     },
     "execution_count": 24,
     "metadata": {},
     "output_type": "execute_result"
    }
   ],
   "source": [
    "\n",
    "nps1 = 19\n",
    "round(abs(simpsons2(fun1, a1, b1, nps1) - exact1), sigdigits=1)"
   ]
  },
  {
   "cell_type": "code",
   "execution_count": 25,
   "id": "dad14b65-98ef-4e58-b9c0-4b49317b239b",
   "metadata": {},
   "outputs": [
    {
     "data": {
      "text/plain": [
       "1.0e-10"
      ]
     },
     "execution_count": 25,
     "metadata": {},
     "output_type": "execute_result"
    }
   ],
   "source": [
    "\n",
    "nps2 = 99\n",
    "round(abs(simpsons2(fun2, a2, b2, nps2) - exact2), sigdigits=1)"
   ]
  },
  {
   "cell_type": "code",
   "execution_count": 27,
   "id": "d6c0be4d-538f-4fe5-b012-32f6baa5a1c9",
   "metadata": {},
   "outputs": [
    {
     "data": {
      "text/plain": [
       "3.0e-7"
      ]
     },
     "execution_count": 27,
     "metadata": {},
     "output_type": "execute_result"
    }
   ],
   "source": [
    "\n",
    "nn = 500\n",
    "round(abs(mytrapezoids(fun1, a1, b1, nn) - exact1), sigdigits=1)"
   ]
  },
  {
   "cell_type": "code",
   "execution_count": 28,
   "id": "e49c1fcf-a71c-4a29-92c9-ef0971652b21",
   "metadata": {},
   "outputs": [
    {
     "data": {
      "text/plain": [
       "test (generic function with 1 method)"
      ]
     },
     "execution_count": 28,
     "metadata": {},
     "output_type": "execute_result"
    }
   ],
   "source": [
    "function test(n)\n",
    "    if iseven(n) && n < 3\n",
    "        return Inf\n",
    "    end\n",
    "    return 0\n",
    "end"
   ]
  },
  {
   "cell_type": "code",
   "execution_count": null,
   "id": "b97f21c2-ec7d-4ccb-9cc1-c85489cd79b5",
   "metadata": {},
   "outputs": [],
   "source": []
  }
 ],
 "metadata": {
  "kernelspec": {
   "display_name": "Julia 1.11.6",
   "language": "julia",
   "name": "julia-1.11"
  },
  "language_info": {
   "file_extension": ".jl",
   "mimetype": "application/julia",
   "name": "julia",
   "version": "1.11.6"
  }
 },
 "nbformat": 4,
 "nbformat_minor": 5
}
