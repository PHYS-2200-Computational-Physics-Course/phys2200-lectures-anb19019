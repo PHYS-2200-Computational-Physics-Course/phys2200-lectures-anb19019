{
 "cells": [
  {
   "cell_type": "code",
   "execution_count": 1,
   "id": "f3a2b94b-720e-4693-ae70-c07d27177c28",
   "metadata": {},
   "outputs": [
    {
     "data": {
      "text/plain": [
       "myfib"
      ]
     },
     "execution_count": 1,
     "metadata": {},
     "output_type": "execute_result"
    }
   ],
   "source": [
    "\"\"\"\n",
    "    myfib(n)\n",
    "\n",
    "Calculate Fibonacci number F_n using the recurrence relation\n",
    "F_1 = 1, F_2 = 1, and F_n = F_n-1 + F_n-2 for n > 2.\n",
    "\"\"\"\n",
    "function myfib(n)\n",
    "    fc = 1\n",
    "    if n == 1\n",
    "        return fc\n",
    "    end\n",
    "end"
   ]
  },
  {
   "cell_type": "code",
   "execution_count": 2,
   "id": "eeba41be-243e-4b0a-b117-4c6a7ef65f98",
   "metadata": {},
   "outputs": [
    {
     "name": "stdout",
     "output_type": "stream",
     "text": [
      "search: \u001b[0m\u001b[1mm\u001b[22m\u001b[0m\u001b[1my\u001b[22m\u001b[0m\u001b[1mf\u001b[22m\u001b[0m\u001b[1mi\u001b[22m\u001b[0m\u001b[1mb\u001b[22m\n",
      "\n"
     ]
    },
    {
     "data": {
      "text/latex": [
       "\\begin{verbatim}\n",
       "myfib(n)\n",
       "\\end{verbatim}\n",
       "Calculate Fibonacci number F\\emph{n using the recurrence relation F}1 = 1, F\\emph{2 = 1, and F}n = F\\emph{n-1 + F}n-2 for n > 2.\n",
       "\n"
      ],
      "text/markdown": [
       "```\n",
       "myfib(n)\n",
       "```\n",
       "\n",
       "Calculate Fibonacci number F*n using the recurrence relation F*1 = 1, F*2 = 1, and F*n = F*n-1 + F*n-2 for n > 2.\n"
      ],
      "text/plain": [
       "\u001b[36m  myfib(n)\u001b[39m\n",
       "\n",
       "  Calculate Fibonacci number F\u001b[4mn using the recurrence relation F\u001b[24m1 = 1, F\u001b[4m2 = 1,\u001b[24m\n",
       "  \u001b[4mand F\u001b[24mn = F\u001b[4mn-1 + F\u001b[24mn-2 for n > 2."
      ]
     },
     "execution_count": 2,
     "metadata": {},
     "output_type": "execute_result"
    }
   ],
   "source": [
    "?myfib"
   ]
  },
  {
   "cell_type": "code",
   "execution_count": null,
   "id": "1bbd8703-d202-4eee-bff1-70e99405d782",
   "metadata": {},
   "outputs": [],
   "source": []
  }
 ],
 "metadata": {
  "kernelspec": {
   "display_name": "Julia 1.11.6",
   "language": "julia",
   "name": "julia-1.11"
  },
  "language_info": {
   "file_extension": ".jl",
   "mimetype": "application/julia",
   "name": "julia",
   "version": "1.11.6"
  }
 },
 "nbformat": 4,
 "nbformat_minor": 5
}
