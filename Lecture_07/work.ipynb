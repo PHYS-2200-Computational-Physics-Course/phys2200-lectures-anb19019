{
 "cells": [
  {
   "cell_type": "code",
   "execution_count": 4,
   "id": "f3a2b94b-720e-4693-ae70-c07d27177c28",
   "metadata": {},
   "outputs": [
    {
     "data": {
      "text/plain": [
       "myfib"
      ]
     },
     "execution_count": 4,
     "metadata": {},
     "output_type": "execute_result"
    }
   ],
   "source": [
    "\"\"\"\n",
    "    myfib(n)\n",
    "\n",
    "Calculate Fibonacci number F_n using the recurrence relation\n",
    "F_1 = 1, F_2 = 1, and F_n = F_n-1 + F_n-2 for n > 2.\n",
    "\"\"\"\n",
    "function myfib(n)\n",
    "    fp = 1\n",
    "    if n == 1\n",
    "        return fp\n",
    "    end\n",
    "\n",
    "    fc = 1\n",
    "    if n == 2\n",
    "        return fc\n",
    "    end\n",
    "\n",
    "    for i = 3:n\n",
    "        fn = fc + fp\n",
    "        fp = fc\n",
    "        fc = fn\n",
    "    end\n",
    "\n",
    "    return fc\n",
    "end"
   ]
  },
  {
   "cell_type": "code",
   "execution_count": 5,
   "id": "eeba41be-243e-4b0a-b117-4c6a7ef65f98",
   "metadata": {},
   "outputs": [
    {
     "name": "stdout",
     "output_type": "stream",
     "text": [
      "search: \u001b[0m\u001b[1mm\u001b[22m\u001b[0m\u001b[1my\u001b[22m\u001b[0m\u001b[1mf\u001b[22m\u001b[0m\u001b[1mi\u001b[22m\u001b[0m\u001b[1mb\u001b[22m\n",
      "\n"
     ]
    },
    {
     "data": {
      "text/latex": [
       "\\begin{verbatim}\n",
       "myfib(n)\n",
       "\\end{verbatim}\n",
       "Calculate Fibonacci number F\\emph{n using the recurrence relation F}1 = 1, F\\emph{2 = 1, and F}n = F\\emph{n-1 + F}n-2 for n > 2.\n",
       "\n"
      ],
      "text/markdown": [
       "```\n",
       "myfib(n)\n",
       "```\n",
       "\n",
       "Calculate Fibonacci number F*n using the recurrence relation F*1 = 1, F*2 = 1, and F*n = F*n-1 + F*n-2 for n > 2.\n"
      ],
      "text/plain": [
       "\u001b[36m  myfib(n)\u001b[39m\n",
       "\n",
       "  Calculate Fibonacci number F\u001b[4mn using the recurrence relation F\u001b[24m1 = 1, F\u001b[4m2 = 1,\u001b[24m\n",
       "  \u001b[4mand F\u001b[24mn = F\u001b[4mn-1 + F\u001b[24mn-2 for n > 2."
      ]
     },
     "execution_count": 5,
     "metadata": {},
     "output_type": "execute_result"
    }
   ],
   "source": [
    "?myfib"
   ]
  },
  {
   "cell_type": "code",
   "execution_count": 7,
   "id": "1bbd8703-d202-4eee-bff1-70e99405d782",
   "metadata": {},
   "outputs": [
    {
     "data": {
      "text/plain": [
       "10-element Vector{Int64}:\n",
       "  1\n",
       "  1\n",
       "  2\n",
       "  3\n",
       "  5\n",
       "  8\n",
       " 13\n",
       " 21\n",
       " 34\n",
       " 55"
      ]
     },
     "execution_count": 7,
     "metadata": {},
     "output_type": "execute_result"
    }
   ],
   "source": [
    "myfib.(1:10)"
   ]
  },
  {
   "cell_type": "code",
   "execution_count": 8,
   "id": "7dcbbba1-65dd-49bb-9855-47fdf8b2503b",
   "metadata": {},
   "outputs": [
    {
     "data": {
      "text/plain": [
       "myfib1 (generic function with 1 method)"
      ]
     },
     "execution_count": 8,
     "metadata": {},
     "output_type": "execute_result"
    }
   ],
   "source": [
    "function myfib1(n)\n",
    "\n",
    "    # Base case\n",
    "    if n == 1\n",
    "        return 1\n",
    "    elseif n == 2\n",
    "        return 1\n",
    "    end\n",
    "\n",
    "    # Recursive step\n",
    "    return myfib1(n-1) + myfib1(n-2)\n",
    "end"
   ]
  },
  {
   "cell_type": "code",
   "execution_count": 9,
   "id": "91a06143-2d4e-4712-87a4-67852331ff68",
   "metadata": {},
   "outputs": [
    {
     "data": {
      "text/plain": [
       "11-element Vector{Int64}:\n",
       "  1\n",
       "  1\n",
       "  2\n",
       "  3\n",
       "  5\n",
       "  8\n",
       " 13\n",
       " 21\n",
       " 34\n",
       " 55\n",
       " 89"
      ]
     },
     "execution_count": 9,
     "metadata": {},
     "output_type": "execute_result"
    }
   ],
   "source": [
    "myfib1.(1:11)"
   ]
  },
  {
   "cell_type": "code",
   "execution_count": 1,
   "id": "d141bec9-708b-4d6d-95db-e019638c13fd",
   "metadata": {},
   "outputs": [
    {
     "data": {
      "text/plain": [
       "myfib2 (generic function with 1 method)"
      ]
     },
     "execution_count": 1,
     "metadata": {},
     "output_type": "execute_result"
    }
   ],
   "source": [
    "function myfib2(n)\n",
    "    fp = 1\n",
    "    if n == 1\n",
    "        return fp\n",
    "    end\n",
    "\n",
    "    fc = 1\n",
    "    if n == 2\n",
    "        return fc\n",
    "    end\n",
    "\n",
    "    for i = 3:n\n",
    "        fc, fp = fc + fp, fc\n",
    "    end\n",
    "\n",
    "    return fc\n",
    "end"
   ]
  },
  {
   "cell_type": "code",
   "execution_count": 2,
   "id": "cf880e2e-e15c-4b4f-99b3-8a04a61d70b7",
   "metadata": {},
   "outputs": [
    {
     "data": {
      "text/plain": [
       "11-element Vector{Int64}:\n",
       "  1\n",
       "  1\n",
       "  2\n",
       "  3\n",
       "  5\n",
       "  8\n",
       " 13\n",
       " 21\n",
       " 34\n",
       " 55\n",
       " 89"
      ]
     },
     "execution_count": 2,
     "metadata": {},
     "output_type": "execute_result"
    }
   ],
   "source": [
    "myfib2.(1:11)"
   ]
  },
  {
   "cell_type": "code",
   "execution_count": null,
   "id": "08cbb33a-610f-45c9-92b4-abe36122a45d",
   "metadata": {},
   "outputs": [],
   "source": []
  }
 ],
 "metadata": {
  "kernelspec": {
   "display_name": "Julia 1.11.6",
   "language": "julia",
   "name": "julia-1.11"
  },
  "language_info": {
   "file_extension": ".jl",
   "mimetype": "application/julia",
   "name": "julia",
   "version": "1.11.6"
  }
 },
 "nbformat": 4,
 "nbformat_minor": 5
}
